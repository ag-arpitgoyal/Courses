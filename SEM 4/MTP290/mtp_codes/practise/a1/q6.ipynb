version https://git-lfs.github.com/spec/v1
oid sha256:2857d2db80f63c578e57432e98cb7d431d76309281d3156ea444f07bd32fe503
size 471475
