version https://git-lfs.github.com/spec/v1
oid sha256:0d5b16f5ed7b2f29f6af92b14f60b648a3e027d2029320ae44fc42f970a2e0ac
size 414680
